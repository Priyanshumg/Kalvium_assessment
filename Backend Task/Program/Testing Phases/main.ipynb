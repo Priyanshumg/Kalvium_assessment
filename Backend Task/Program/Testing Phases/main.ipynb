{
 "cells": [
  {
   "cell_type": "code",
   "execution_count": 1,
   "metadata": {},
   "outputs": [
    {
     "name": "stdout",
     "output_type": "stream",
     "text": [
      "Collecting Flask\n",
      "  Downloading flask-2.3.3-py3-none-any.whl (96 kB)\n",
      "     ---------------------------------------- 96.1/96.1 kB 5.4 MB/s eta 0:00:00\n",
      "Collecting inflect\n",
      "  Downloading inflect-7.0.0-py3-none-any.whl (34 kB)\n",
      "Requirement already satisfied: Jinja2>=3.1.2 in c:\\users\\dell\\appdata\\local\\programs\\python\\python310\\lib\\site-packages (from Flask) (3.1.2)\n",
      "Collecting blinker>=1.6.2\n",
      "  Downloading blinker-1.6.2-py3-none-any.whl (13 kB)\n",
      "Collecting itsdangerous>=2.1.2\n",
      "  Downloading itsdangerous-2.1.2-py3-none-any.whl (15 kB)\n",
      "Collecting Werkzeug>=2.3.7\n",
      "  Downloading werkzeug-2.3.7-py3-none-any.whl (242 kB)\n",
      "     ------------------------------------ 242.2/242.2 kB 825.5 kB/s eta 0:00:00\n",
      "Collecting click>=8.1.3\n",
      "  Downloading click-8.1.7-py3-none-any.whl (97 kB)\n",
      "     -------------------------------------- 97.9/97.9 kB 933.0 kB/s eta 0:00:00\n",
      "Collecting pydantic>=1.9.1\n",
      "  Downloading pydantic-2.3.0-py3-none-any.whl (374 kB)\n",
      "     ------------------------------------ 374.5/374.5 kB 728.5 kB/s eta 0:00:00\n",
      "Collecting typing-extensions\n",
      "  Downloading typing_extensions-4.7.1-py3-none-any.whl (33 kB)\n",
      "Requirement already satisfied: colorama in c:\\users\\dell\\appdata\\local\\programs\\python\\python310\\lib\\site-packages (from click>=8.1.3->Flask) (0.4.5)\n",
      "Requirement already satisfied: MarkupSafe>=2.0 in c:\\users\\dell\\appdata\\local\\programs\\python\\python310\\lib\\site-packages (from Jinja2>=3.1.2->Flask) (2.1.1)\n",
      "Collecting annotated-types>=0.4.0\n",
      "  Downloading annotated_types-0.5.0-py3-none-any.whl (11 kB)\n",
      "Collecting pydantic-core==2.6.3\n",
      "  Downloading pydantic_core-2.6.3-cp310-none-win_amd64.whl (1.7 MB)\n",
      "     ---------------------------------------- 1.7/1.7 MB 561.5 kB/s eta 0:00:00\n",
      "Installing collected packages: Werkzeug, typing-extensions, itsdangerous, click, blinker, annotated-types, pydantic-core, Flask, pydantic, inflect\n",
      "Successfully installed Flask-2.3.3 Werkzeug-2.3.7 annotated-types-0.5.0 blinker-1.6.2 click-8.1.7 inflect-7.0.0 itsdangerous-2.1.2 pydantic-2.3.0 pydantic-core-2.6.3 typing-extensions-4.7.1\n",
      "Note: you may need to restart the kernel to use updated packages.\n"
     ]
    },
    {
     "name": "stderr",
     "output_type": "stream",
     "text": [
      "\n",
      "[notice] A new release of pip available: 22.3.1 -> 23.2.1\n",
      "[notice] To update, run: python.exe -m pip install --upgrade pip\n"
     ]
    }
   ],
   "source": [
    "%pip install Flask inflect"
   ]
  },
  {
   "cell_type": "code",
   "execution_count": 2,
   "metadata": {},
   "outputs": [],
   "source": [
    "from flask import Flask, request, jsonify\n",
    "import inflect"
   ]
  },
  {
   "cell_type": "code",
   "execution_count": null,
   "metadata": {},
   "outputs": [],
   "source": [
    "app = Flask(__name__)\n",
    "history = []\n",
    "\n",
    "@app.route('/calculate/<operation>')\n",
    "def calculate(operation):\n",
    "    p = inflect.engine()\n",
    "\n",
    "    if operation == 'plus':\n",
    "        operator = '+'\n",
    "    elif operation == 'minus':\n",
    "        operator = '-'\n",
    "    elif operation == 'times':\n",
    "        operator = '*'\n",
    "    elif operation == 'dividedby':\n",
    "        operator = '/'\n",
    "    else:\n",
    "        return jsonify({'error': 'Invalid operation'})\n",
    "\n",
    "    try:\n",
    "        num1 = p.number_to_words(request.args.get('num1'))\n",
    "        num2 = p.number_to_words(request.args.get('num2'))\n",
    "        question = f'{num1} {operator} {num2}'\n",
    "        answer = eval(f'{float(num1)} {operator} {float(num2)}')\n",
    "    except Exception as e:\n",
    "        return jsonify({'error': 'Invalid input'})\n",
    "\n",
    "    history.append({'question': question, 'answer': answer})\n",
    "    if len(history) > 20:\n",
    "        history.pop(0)\n",
    "\n",
    "    return jsonify({'question': question, 'answer': answer})\n",
    "\n",
    "@app.route('/history')\n",
    "def get_history():\n",
    "    return jsonify({'history': history})\n",
    "\n",
    "if __name__ == '__main__':\n",
    "    app.run()\n"
   ]
  }
 ],
 "metadata": {
  "kernelspec": {
   "display_name": "Python 3",
   "language": "python",
   "name": "python3"
  },
  "language_info": {
   "codemirror_mode": {
    "name": "ipython",
    "version": 3
   },
   "file_extension": ".py",
   "mimetype": "text/x-python",
   "name": "python",
   "nbconvert_exporter": "python",
   "pygments_lexer": "ipython3",
   "version": "3.10.9"
  },
  "orig_nbformat": 4
 },
 "nbformat": 4,
 "nbformat_minor": 2
}
